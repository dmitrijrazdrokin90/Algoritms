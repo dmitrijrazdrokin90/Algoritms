{
  "nbformat": 4,
  "nbformat_minor": 0,
  "metadata": {
    "colab": {
      "name": "Раздрокин.ipynb",
      "provenance": [],
      "collapsed_sections": [],
      "include_colab_link": true
    },
    "kernelspec": {
      "name": "python3",
      "display_name": "Python 3"
    }
  },
  "cells": [
    {
      "cell_type": "markdown",
      "metadata": {
        "id": "view-in-github",
        "colab_type": "text"
      },
      "source": [
        "<a href=\"https://colab.research.google.com/github/dmitrijrazdrokin90/Algoritms/blob/master/%D0%A0%D0%B0%D0%B7%D0%B4%D1%80%D0%BE%D0%BA%D0%B8%D0%BD.ipynb\" target=\"_parent\"><img src=\"https://colab.research.google.com/assets/colab-badge.svg\" alt=\"Open In Colab\"/></a>"
      ]
    },
    {
      "cell_type": "markdown",
      "metadata": {
        "id": "9ZEuGiV5R6HT",
        "colab_type": "text"
      },
      "source": [
        "#Лабараторная 1"
      ]
    },
    {
      "cell_type": "code",
      "metadata": {
        "id": "BM_7tAybSErW",
        "colab_type": "code",
        "colab": {
          "base_uri": "https://localhost:8080/",
          "height": 51
        },
        "outputId": "2ff829db-0939-444b-e794-a57d55ca43e1"
      },
      "source": [
        "import math\n",
        "\n",
        "def z1(x):\n",
        "  return math.sqrt(2 * x + 2 * math.sqrt(x ** 2 - 4))/(math.sqrt(x ** 2 - 4) + x + 2)\n",
        "def z2(x):\n",
        "  return 1/math.sqrt(x + 2)\n",
        "\n",
        "b = float(input(\"Введите b=\"))\n",
        "if b >= 2:\n",
        "  print(\"z1 =\", z1(b))\n",
        "  print(\"z2 =\", z2(b))\n",
        "else:\n",
        "  print(\"Значение b слишком мало. b должно быть больше или равно двум.\")"
      ],
      "execution_count": 2,
      "outputs": [
        {
          "output_type": "stream",
          "text": [
            "Введите b=1\n",
            "Значение b слишком мало. b должно быть больше или равно двум.\n"
          ],
          "name": "stdout"
        }
      ]
    },
    {
      "cell_type": "markdown",
      "metadata": {
        "id": "6MkMzFTDT2gA",
        "colab_type": "text"
      },
      "source": [
        "#Лабараторная 2. Задание 1\n"
      ]
    },
    {
      "cell_type": "code",
      "metadata": {
        "id": "L5djrMPJUBh2",
        "colab_type": "code",
        "colab": {
          "base_uri": "https://localhost:8080/",
          "height": 85
        },
        "outputId": "ea7f72b0-9db5-45a9-861a-772436f38e35"
      },
      "source": [
        "import math\n",
        "\n",
        "def func(x, r1, r2):\n",
        "  if x >= -7 and x < -6:\n",
        "    return 1\n",
        "  elif x >= -6 and x < -4:\n",
        "    return -0.50*x + -2.00\n",
        "  elif x >= -4 and x < 0:\n",
        "    return math.sqrt(r2 ** 2 - (x + 2) ** 2 ) + 0\n",
        "  elif x >= 0 and x < 2:\n",
        "    return -(math.sqrt(r1 ** 2 - (x - 1) ** 2) + 0)\n",
        "  elif x >=2 and x <=3:\n",
        "    return -1.00*x + 2.00\n",
        "  else:\n",
        "    return \"Число не в диапозоне\"\n",
        "\n",
        "x = input(\"x=\")\n",
        "r1 = input(\"r1=\")\n",
        "r2 = input(\"r2=\")\n",
        "try:\n",
        "  x = float(x)\n",
        "  r1 = float(r1)\n",
        "  r2 = float(r2)\n",
        "except ValueError:\n",
        "  print(\"Постаратейтесь вводить числа.\")\n",
        "  exit()\n",
        "print(\"y=\", func(x, r1, r2))"
      ],
      "execution_count": 3,
      "outputs": [
        {
          "output_type": "stream",
          "text": [
            "x=2\n",
            "r1=1\n",
            "r2=2\n",
            "y= 0.0\n"
          ],
          "name": "stdout"
        }
      ]
    },
    {
      "cell_type": "markdown",
      "metadata": {
        "id": "QUQ-BSMjYybN",
        "colab_type": "text"
      },
      "source": [
        "#Лабораторная работа 2. Задание 2"
      ]
    },
    {
      "cell_type": "code",
      "metadata": {
        "id": "8UG1f2UBY4gX",
        "colab_type": "code",
        "colab": {
          "base_uri": "https://localhost:8080/",
          "height": 85
        },
        "outputId": "a09435a7-c106-4a76-f1bd-e1be949c2f83"
      },
      "source": [
        "import math\n",
        "\n",
        "def msg(r, x, y):\n",
        "  if shot(r, x, y):\n",
        "    print(\"Вы попали в цель.\")\n",
        "  else:\n",
        "    print(\"Вы не попали в цель.\")\n",
        "\n",
        "def shot(r, x, y):\n",
        "  if x < 0 and x > -r and y > math.sqrt(r ** 2 - (x + r) ** 2) - r:\n",
        "    return True\n",
        "  elif x > 0 and x < r and y < math.sqrt(r ** 2 - x ** 2) and y < 0:\n",
        "    return True\n",
        "  else:\n",
        "    return False\n",
        "\n",
        "r = input(\"r=\")\n",
        "x = input('x=')\n",
        "y = input('y=')\n",
        "\n",
        "try:\n",
        "  x = float(x)\n",
        "  r = float(r)\n",
        "  y = float(y)\n",
        "except ValueError:\n",
        "  print(\"Постаратейтесь вводить числа.\")\n",
        "  exit()\n",
        "msg(r, x, y)"
      ],
      "execution_count": 4,
      "outputs": [
        {
          "output_type": "stream",
          "text": [
            "r=2\n",
            "x=2\n",
            "y=2\n",
            "Вы не попали в цель.\n"
          ],
          "name": "stdout"
        }
      ]
    },
    {
      "cell_type": "markdown",
      "metadata": {
        "id": "1865LzpocYEM",
        "colab_type": "text"
      },
      "source": [
        "#Лабораторная 3. Задание 1"
      ]
    },
    {
      "cell_type": "code",
      "metadata": {
        "id": "apEwjJu-cXf0",
        "colab_type": "code",
        "colab": {
          "base_uri": "https://localhost:8080/",
          "height": 289
        },
        "outputId": "9259ed54-c09b-4c0f-abd9-7d31341613bf"
      },
      "source": [
        "def line_for_table():\n",
        "    print('{:<1} {:<12} {:<1} {:<12} {:<1}'.format(\"+\",\"-\"*12, \"+\", \"-\"*12, '+'))\n",
        "        \n",
        "def header_table():\n",
        "    line_for_table()\n",
        "    print('{:<1} {:<12} {:<1} {:<12} {:<1}'.format('|', 'x', \"|\",'y','|'))\n",
        "    line_for_table()\n",
        "    \n",
        "def table(dx, r1, r2):\n",
        "    x0 = -7.0\n",
        "    x1 = 3.0\n",
        "    header_table()\n",
        "    while x0 < x1:\n",
        "        z = round(x0, 8)\n",
        "        y = round(func(x0, r1, r2), 8)\n",
        "        print('{:<1} {:<12} {:<1} {:<12} {:<1}'.format('|', z, '|', y, '|'))\n",
        "        line_for_table()\n",
        "        x0 += dx\n",
        "\n",
        "r1 = input(\"r1=\")\n",
        "r2 = input(\"r2=\")\n",
        "dx = input(\"dx=\")\n",
        "try:\n",
        "  x = float(x)\n",
        "  r1 = float(r1)\n",
        "  r2 = float(r2)\n",
        "  dx = float(dx)\n",
        "except ValueError:\n",
        "  print(\"Постаратейтесь вводить числа.\")\n",
        "  exit()\n",
        "table(dx, r1, r2)"
      ],
      "execution_count": 5,
      "outputs": [
        {
          "output_type": "stream",
          "text": [
            "r1=2\n",
            "r2=2\n",
            "dx=2\n",
            "+ ------------ + ------------ +\n",
            "| x            | y            |\n",
            "+ ------------ + ------------ +\n",
            "| -7.0         | 1            |\n",
            "+ ------------ + ------------ +\n",
            "| -5.0         | 0.5          |\n",
            "+ ------------ + ------------ +\n",
            "| -3.0         | 1.73205081   |\n",
            "+ ------------ + ------------ +\n",
            "| -1.0         | 1.73205081   |\n",
            "+ ------------ + ------------ +\n",
            "| 1.0          | -2.0         |\n",
            "+ ------------ + ------------ +\n"
          ],
          "name": "stdout"
        }
      ]
    },
    {
      "cell_type": "markdown",
      "metadata": {
        "id": "RyqSypWQfzWj",
        "colab_type": "text"
      },
      "source": [
        "#Лабораторная работа 3. Задание 2\n"
      ]
    },
    {
      "cell_type": "code",
      "metadata": {
        "id": "nchi-HWNfys-",
        "colab_type": "code",
        "colab": {
          "base_uri": "https://localhost:8080/",
          "height": 187
        },
        "outputId": "09414789-f203-4c15-944f-0556d4dc0d77"
      },
      "source": [
        "for i in range(3):\n",
        "  r = input(\"r=\")\n",
        "  x = input('x=')\n",
        "  y = input('y=')\n",
        "  try:\n",
        "    r=float (r)\n",
        "    x=float (x)\n",
        "    y=float (y)\n",
        "  except ValueError:\n",
        "    print(\"Вводите числа, пожалуйства\")\n",
        "    exit()\n",
        "msg(r,x,y)"
      ],
      "execution_count": 8,
      "outputs": [
        {
          "output_type": "stream",
          "text": [
            "r=3\n",
            "x=4\n",
            "y=4\n",
            "r=5\n",
            "x=4\n",
            "y=4\n",
            "r=5\n",
            "x=6\n",
            "y=7\n",
            "Вы не попали в цель.\n"
          ],
          "name": "stdout"
        }
      ]
    },
    {
      "cell_type": "markdown",
      "metadata": {
        "id": "43OIaf7Oi_bC",
        "colab_type": "text"
      },
      "source": [
        "#Лабораторная работа 3. Задание 3"
      ]
    },
    {
      "cell_type": "code",
      "metadata": {
        "id": "VtRh74hPjGJ2",
        "colab_type": "code",
        "colab": {
          "base_uri": "https://localhost:8080/",
          "height": 697
        },
        "outputId": "c59f5301-f119-425f-b591-cbca939ab44d"
      },
      "source": [
        "def teilor(x, n):\n",
        "  sum = 0\n",
        "  for i in range(n):\n",
        "    sum += ((-1) ** n * x ** (2 * n + 1))/(2 * n + 1)\n",
        "  return sum\n",
        "\n",
        "def teilor_tab(x0, x1, dx, n):\n",
        "  header_table()\n",
        "  while x0 <= x1:\n",
        "    line_for_table()\n",
        "    print('{:<1} {:<12} {:<1} {:<12} {:<1}'.format('|', x0, '|', teilor(x0, n), '|'))\n",
        "    line_for_table()\n",
        "    x0 += dx\n",
        "\n",
        "x0 = input(\"x0=\")\n",
        "x = input(\"x1=\")\n",
        "d = input(\"dx=\")\n",
        "n = input(\"n=\")\n",
        "try:\n",
        "  x0 = float(x0)\n",
        "  x = float(x)\n",
        "  d = float(d)\n",
        "  n = int(n)\n",
        "except ValueError:\n",
        "  print(\"Вводите числа. Пожалуйста.\")\n",
        "  exit()\n",
        "\n",
        "teilor_tab(x0, x, d, n)"
      ],
      "execution_count": 7,
      "outputs": [
        {
          "output_type": "stream",
          "text": [
            "x0=2\n",
            "x1=22\n",
            "dx=2\n",
            "n=22\n",
            "+ ------------ + ------------ +\n",
            "| x            | y            |\n",
            "+ ------------ + ------------ +\n",
            "+ ------------ + ------------ +\n",
            "| 2.0          | 17201248576762.303 |\n",
            "+ ------------ + ------------ +\n",
            "+ ------------ + ------------ +\n",
            "| 4.0          | 6.052151303172967e+26 |\n",
            "+ ------------ + ------------ +\n",
            "+ ------------ + ------------ +\n",
            "| 6.0          | 5.081786723886833e+34 |\n",
            "+ ------------ + ------------ +\n",
            "+ ------------ + ------------ +\n",
            "| 8.0          | 2.1294114338874717e+40 |\n",
            "+ ------------ + ------------ +\n",
            "+ ------------ + ------------ +\n",
            "| 10.0         | 4.888888888888888e+44 |\n",
            "+ ------------ + ------------ +\n",
            "+ ------------ + ------------ +\n",
            "| 12.0         | 1.787994749693209e+48 |\n",
            "+ ------------ + ------------ +\n",
            "+ ------------ + ------------ +\n",
            "| 14.0         | 1.8406523624201556e+51 |\n",
            "+ ------------ + ------------ +\n",
            "+ ------------ + ------------ +\n",
            "| 16.0         | 7.4922004220110085e+53 |\n",
            "+ ------------ + ------------ +\n",
            "+ ------------ + ------------ +\n",
            "| 18.0         | 1.5013187090360209e+56 |\n",
            "+ ------------ + ------------ +\n",
            "+ ------------ + ------------ +\n",
            "| 20.0         | 1.720124857676231e+58 |\n",
            "+ ------------ + ------------ +\n",
            "+ ------------ + ------------ +\n",
            "| 22.0         | 1.253807328747895e+60 |\n",
            "+ ------------ + ------------ +\n"
          ],
          "name": "stdout"
        }
      ]
    }
  ]
}