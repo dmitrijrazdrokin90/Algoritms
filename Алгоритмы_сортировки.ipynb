{
  "nbformat": 4,
  "nbformat_minor": 0,
  "metadata": {
    "colab": {
      "name": "Алгоритмы сортировки.ipynb",
      "provenance": [],
      "authorship_tag": "ABX9TyNjCyYgkmIO+J+eLlXciOZY",
      "include_colab_link": true
    },
    "kernelspec": {
      "name": "python3",
      "display_name": "Python 3"
    }
  },
  "cells": [
    {
      "cell_type": "markdown",
      "metadata": {
        "id": "view-in-github",
        "colab_type": "text"
      },
      "source": [
        "<a href=\"https://colab.research.google.com/github/dmitrijrazdrokin90/Algoritms/blob/master/%D0%90%D0%BB%D0%B3%D0%BE%D1%80%D0%B8%D1%82%D0%BC%D1%8B_%D1%81%D0%BE%D1%80%D1%82%D0%B8%D1%80%D0%BE%D0%B2%D0%BA%D0%B8.ipynb\" target=\"_parent\"><img src=\"https://colab.research.google.com/assets/colab-badge.svg\" alt=\"Open In Colab\"/></a>"
      ]
    },
    {
      "cell_type": "code",
      "metadata": {
        "id": "GvM0YX9Ezzt1",
        "colab_type": "code",
        "colab": {
          "base_uri": "https://localhost:8080/",
          "height": 238
        },
        "outputId": "f9a6ee38-26ca-42ac-dab3-391a66ef823e"
      },
      "source": [
        "import numpy as np\n",
        "import time\n",
        "\n",
        "\n",
        "row = np.random.randint(0, 1000, 100)\n",
        "\n",
        "\n",
        "def bubble_sort(array):\n",
        "    for i in range(len(array) - 1):\n",
        "        for j in range(len(array) - i - 1):\n",
        "            if array[j] > array[j + 1]:\n",
        "                array[j], array[j + 1] = array[j + 1], array[j]\n",
        "    return array\n",
        "\n",
        "\n",
        "print(row)\n",
        "bubble_sort(row)\n",
        "print(row)\n",
        "print(time.process_time())"
      ],
      "execution_count": 1,
      "outputs": [
        {
          "output_type": "stream",
          "text": [
            "[930 558 893 730  19 399 283  53 512 724 630 277 117 825 997 219 582 569\n",
            " 463  15 914 729 822 264 120  17 623 450 115 851  53 880 654 475  34 609\n",
            " 155 349 924 646 644 548 596 989 743 168 436 908 439 361 814 562 487 430\n",
            " 974 791 987 987 783 544 654 856 902  94 208 848 473 898 499 115 619  18\n",
            " 311 812 160 589 358 804 453 581 829 827 218 744  67 623 189 335 679  41\n",
            " 868 722 177 850 859 765  12 852 952 415]\n",
            "[ 12  15  17  18  19  34  41  53  53  67  94 115 115 117 120 155 160 168\n",
            " 177 189 208 218 219 264 277 283 311 335 349 358 361 399 415 430 436 439\n",
            " 450 453 463 473 475 487 499 512 544 548 558 562 569 581 582 589 596 609\n",
            " 619 623 623 630 644 646 654 654 679 722 724 729 730 743 744 765 783 791\n",
            " 804 812 814 822 825 827 829 848 850 851 852 856 859 868 880 893 898 902\n",
            " 908 914 924 930 952 974 987 987 989 997]\n",
            "1.509115536\n"
          ],
          "name": "stdout"
        }
      ]
    },
    {
      "cell_type": "code",
      "metadata": {
        "id": "d7-sSSTjURD6",
        "colab_type": "code",
        "colab": {
          "base_uri": "https://localhost:8080/",
          "height": 238
        },
        "outputId": "2ad2090e-b134-41fb-d8f5-ab831a2e22c1"
      },
      "source": [
        "import numpy as np\n",
        "import time\n",
        "\n",
        "\n",
        "row = np.random.randint(0, 1000, 100)\n",
        "\n",
        "\n",
        "def insertion_sort(array):\n",
        "    for i in range(len(array)):\n",
        "        j = i - 1\n",
        "        key = array[i]\n",
        "        while array[j] > key and j >= 0:\n",
        "            array[j + 1] = array[j]\n",
        "            j -= 1\n",
        "        array[j + 1] = key\n",
        "    return array\n",
        "\n",
        "\n",
        "print(row)\n",
        "insertion_sort(row)\n",
        "print(row)\n",
        "print(time.process_time())"
      ],
      "execution_count": 2,
      "outputs": [
        {
          "output_type": "stream",
          "text": [
            "[745 162 721 734  72 672  76 522 228 677 584 380  13 259 391 133 993 974\n",
            " 334 804 164 606 139 873 971 173 969 971 347 106 969 445 610 221 816 564\n",
            " 161 877 946 263 389 757 896  55 149 712 858 715 728 899 959  54  41 616\n",
            "  56 302  71 995 916 312 561  38 464 552 970 371 231 520  93 617 472 495\n",
            " 449 407 294 180 545 385 866 187 108 643  30 101  53 515 637 575 594 708\n",
            " 193 373 473 166 442 617 916 529 761 780]\n",
            "[ 13  30  38  41  53  54  55  56  71  72  76  93 101 106 108 133 139 149\n",
            " 161 162 164 166 173 180 187 193 221 228 231 259 263 294 302 312 334 347\n",
            " 371 373 380 385 389 391 407 442 445 449 464 472 473 495 515 520 522 529\n",
            " 545 552 561 564 575 584 594 606 610 616 617 617 637 643 672 677 708 712\n",
            " 715 721 728 734 745 757 761 780 804 816 858 866 873 877 896 899 916 916\n",
            " 946 959 969 969 970 971 971 974 993 995]\n",
            "1.535937557\n"
          ],
          "name": "stdout"
        }
      ]
    },
    {
      "cell_type": "code",
      "metadata": {
        "id": "S5ThQ0MLU7vh",
        "colab_type": "code",
        "colab": {
          "base_uri": "https://localhost:8080/",
          "height": 105
        },
        "outputId": "3bf36e53-2249-4aa9-a4b9-d248e8105e4b"
      },
      "source": [
        "import random as rd\n",
        "\n",
        "\n",
        "def merge_sort(array):\n",
        "    if len(array) > 1:\n",
        "        mid = len(array) // 2\n",
        "        L = array[:mid]\n",
        "        R = array[mid:]\n",
        "        merge_sort(L)\n",
        "        merge_sort(R)\n",
        "        i = j = k = 0\n",
        "        while i < len(L) and j < len(R):\n",
        "            if L[i] < R[j]:\n",
        "                array[k] = L[i]\n",
        "                i += 1\n",
        "            else:\n",
        "                array[k] = R[j]\n",
        "                j += 1\n",
        "            k += 1\n",
        "        while i < len(L):\n",
        "            array[k] = L[i]\n",
        "            i += 1\n",
        "            k += 1\n",
        "        while j < len(R):\n",
        "            array[k] = R[j]\n",
        "            j += 1\n",
        "            k += 1\n",
        "    return array\n",
        "\n",
        "\n",
        "def array_init(n):\n",
        "    array = []\n",
        "    for i in range(n):\n",
        "        array.append(rd.randint(0, 100))\n",
        "    return array\n",
        "\n",
        "\n",
        "arr = array_init(100)\n",
        "print(\"Given array is: \\n\", arr)\n",
        "merge_sort(arr)\n",
        "print(\"Sorted array is: \\n\", arr)"
      ],
      "execution_count": 3,
      "outputs": [
        {
          "output_type": "stream",
          "text": [
            "Given array is: \n",
            " [93, 75, 71, 48, 67, 40, 39, 58, 43, 64, 54, 88, 28, 28, 67, 99, 74, 1, 5, 63, 48, 28, 74, 68, 63, 32, 27, 78, 31, 97, 10, 32, 6, 14, 24, 50, 39, 31, 63, 14, 99, 83, 80, 100, 9, 73, 85, 10, 80, 8, 77, 91, 9, 58, 22, 32, 55, 35, 98, 70, 66, 4, 28, 41, 30, 58, 96, 64, 21, 56, 1, 28, 58, 41, 78, 43, 92, 36, 31, 46, 29, 46, 61, 2, 38, 40, 44, 62, 23, 38, 80, 36, 65, 22, 21, 27, 97, 20, 51, 66]\n",
            "Sorted array is: \n",
            " [1, 1, 2, 4, 5, 6, 8, 9, 9, 10, 10, 14, 14, 20, 21, 21, 22, 22, 23, 24, 27, 27, 28, 28, 28, 28, 28, 29, 30, 31, 31, 31, 32, 32, 32, 35, 36, 36, 38, 38, 39, 39, 40, 40, 41, 41, 43, 43, 44, 46, 46, 48, 48, 50, 51, 54, 55, 56, 58, 58, 58, 58, 61, 62, 63, 63, 63, 64, 64, 65, 66, 66, 67, 67, 68, 70, 71, 73, 74, 74, 75, 77, 78, 78, 80, 80, 80, 83, 85, 88, 91, 92, 93, 96, 97, 97, 98, 99, 99, 100]\n"
          ],
          "name": "stdout"
        }
      ]
    },
    {
      "cell_type": "code",
      "metadata": {
        "id": "2EixJ7E4VET5",
        "colab_type": "code",
        "colab": {
          "base_uri": "https://localhost:8080/",
          "height": 238
        },
        "outputId": "43aee281-bcf0-41ef-84ff-1a011abf4611"
      },
      "source": [
        "import numpy as np\n",
        "import time\n",
        "\n",
        "\n",
        "row = np.random.randint(0, 1000, 100)\n",
        "\n",
        "\n",
        "def selection_sort(array):\n",
        "    for i in range(len(array) - 1):\n",
        "        m = i\n",
        "        j = i + 1\n",
        "        while j < len(array):\n",
        "            if array[j] < array[m]:\n",
        "                m = j\n",
        "            j += 1\n",
        "        array[i], array[m] = array[m], array[i]\n",
        "    return array\n",
        "\n",
        "\n",
        "print(row)\n",
        "selection_sort(row)\n",
        "print(row)\n",
        "print(time.process_time())"
      ],
      "execution_count": 4,
      "outputs": [
        {
          "output_type": "stream",
          "text": [
            "[316 797 674 945 919 755 420 210 285 623 538 960  62 418 457 760 130 370\n",
            " 433  51 624 808 440 858 156  70 388 223 800 264 584 992 207 726 790  39\n",
            " 716 447 513 106 425 432 640 668 600 542 353 933 878 511 439 703 735 677\n",
            " 577  97 485 933 319 234 704 321 630 396 225 958 252 984 410 133 141 198\n",
            " 923 348 100 229 936 635  61 300 673 499 612 632 713 299  87 261  63 212\n",
            " 842 245 262  79  26 988  82 177 191 154]\n",
            "[ 26  39  51  61  62  63  70  79  82  87  97 100 106 130 133 141 154 156\n",
            " 177 191 198 207 210 212 223 225 229 234 245 252 261 262 264 285 299 300\n",
            " 316 319 321 348 353 370 388 396 410 418 420 425 432 433 439 440 447 457\n",
            " 485 499 511 513 538 542 577 584 600 612 623 624 630 632 635 640 668 673\n",
            " 674 677 703 704 713 716 726 735 755 760 790 797 800 808 842 858 878 919\n",
            " 923 933 933 936 945 958 960 984 988 992]\n",
            "1.6320176690000001\n"
          ],
          "name": "stdout"
        }
      ]
    },
    {
      "cell_type": "code",
      "metadata": {
        "id": "ZyYgNrrYVnr4",
        "colab_type": "code",
        "colab": {
          "base_uri": "https://localhost:8080/",
          "height": 68
        },
        "outputId": "46430fca-ffd5-4df6-8be5-b36dc12c41f6"
      },
      "source": [
        "import numpy as np\n",
        "import time\n",
        "\n",
        "\n",
        "row = np.random.randint(0, 100, 10)\n",
        "\n",
        "\n",
        "def shaker_sort(array):\n",
        "    up = range(len(array) - 1)\n",
        "    while True:\n",
        "        for indices in (up, reversed(up)):\n",
        "            swapped = False\n",
        "            for i in indices:\n",
        "                if array[i] > array[i + 1]:\n",
        "                    array[i], array[i + 1] = array[i + 1], array[i]\n",
        "                    swapped = True\n",
        "        if not swapped:\n",
        "            return array\n",
        "\n",
        "\n",
        "print(row)\n",
        "shaker_sort(row)\n",
        "print(row)\n",
        "print(time.process_time())"
      ],
      "execution_count": 5,
      "outputs": [
        {
          "output_type": "stream",
          "text": [
            "[65 77 39 86 24 39 58 21 67 40]\n",
            "[21 24 39 39 40 58 65 67 77 86]\n",
            "1.673233286\n"
          ],
          "name": "stdout"
        }
      ]
    },
    {
      "cell_type": "code",
      "metadata": {
        "id": "oCgutSV4VrIx",
        "colab_type": "code",
        "colab": {
          "base_uri": "https://localhost:8080/",
          "height": 68
        },
        "outputId": "4ca54d11-782d-4893-d735-af32c4183688"
      },
      "source": [
        "import numpy as np\n",
        "import time\n",
        "\n",
        "\n",
        "row = np.random.randint(0, 100, 10)\n",
        "\n",
        "\n",
        "def shell_sort(array):\n",
        "    n = len(array)\n",
        "    gap = n // 2\n",
        "    while gap > 0:\n",
        "        for i in range(gap, n):\n",
        "            temp = array[i]\n",
        "            j = i\n",
        "            while j >= gap and array[j - gap] > temp:\n",
        "                array[j] = array[j - gap]\n",
        "                j -= gap\n",
        "            array[j] = temp\n",
        "        gap //= 2\n",
        "    return array\n",
        "\n",
        "\n",
        "print(row)\n",
        "shell_sort(row)\n",
        "print(row)\n",
        "print(time.process_time())"
      ],
      "execution_count": 6,
      "outputs": [
        {
          "output_type": "stream",
          "text": [
            "[29 76  2 16 48 55  4 90 70 97]\n",
            "[ 2  4 16 29 48 55 70 76 90 97]\n",
            "2.195664993\n"
          ],
          "name": "stdout"
        }
      ]
    },
    {
      "cell_type": "code",
      "metadata": {
        "id": "z_UfeaXOlyxt",
        "colab_type": "code",
        "colab": {
          "base_uri": "https://localhost:8080/",
          "height": 105
        },
        "outputId": "f44d2241-1182-44c4-b71c-48ca010c60ac"
      },
      "source": [
        "import random as rd\n",
        "\n",
        "\n",
        "def partition(array, low, high):\n",
        "    i = low - 1\n",
        "    pivot = array[high]\n",
        "    for j in range(low, high):\n",
        "        if array[j] < pivot:\n",
        "            i += 1\n",
        "            array[i], array[j] = array[j], array[i]\n",
        "    array[i + 1], array[high] = array[high], array[i + 1]\n",
        "    return i + 1\n",
        "\n",
        "\n",
        "def quick_sort_legacy(array, low, high):\n",
        "    if low < high:\n",
        "        part_index = partition(array, low, high)\n",
        "        quick_sort_legacy(array, low, part_index - 1)\n",
        "        quick_sort_legacy(array, part_index + 1, high)\n",
        "    return array\n",
        "\n",
        "\n",
        "def quick_sort(array):\n",
        "    quick_sort_legacy(array, 0, len(array) - 1)\n",
        "\n",
        "\n",
        "def array_init(n):\n",
        "    array = []\n",
        "    for i in range(n):\n",
        "        array.append(rd.randint(0, 100))\n",
        "    return array\n",
        "\n",
        "\n",
        "arr = array_init(100)\n",
        "print(\"Unsorted array is: \\n\", arr)\n",
        "quick_sort(arr)\n",
        "print(\"Sorted array is: \\n\", arr)"
      ],
      "execution_count": 7,
      "outputs": [
        {
          "output_type": "stream",
          "text": [
            "Unsorted array is: \n",
            " [7, 84, 46, 12, 64, 52, 94, 59, 45, 93, 95, 51, 23, 54, 43, 60, 19, 57, 11, 70, 70, 45, 96, 47, 13, 22, 55, 17, 94, 61, 91, 64, 97, 59, 19, 86, 90, 20, 98, 14, 21, 73, 92, 30, 65, 90, 18, 96, 4, 25, 42, 21, 35, 9, 34, 90, 11, 11, 38, 21, 42, 49, 33, 15, 12, 15, 15, 66, 72, 52, 4, 61, 76, 61, 89, 8, 38, 14, 91, 5, 35, 6, 35, 80, 37, 22, 49, 50, 8, 100, 75, 11, 70, 28, 24, 17, 3, 66, 49, 64]\n",
            "Sorted array is: \n",
            " [3, 4, 4, 5, 6, 7, 8, 8, 9, 11, 11, 11, 11, 12, 12, 13, 14, 14, 15, 15, 15, 17, 17, 18, 19, 19, 20, 21, 21, 21, 22, 22, 23, 24, 25, 28, 30, 33, 34, 35, 35, 35, 37, 38, 38, 42, 42, 43, 45, 45, 46, 47, 49, 49, 49, 50, 51, 52, 52, 54, 55, 57, 59, 59, 60, 61, 61, 61, 64, 64, 64, 65, 66, 66, 70, 70, 70, 72, 73, 75, 76, 80, 84, 86, 89, 90, 90, 90, 91, 91, 92, 93, 94, 94, 95, 96, 96, 97, 98, 100]\n"
          ],
          "name": "stdout"
        }
      ]
    },
    {
      "cell_type": "code",
      "metadata": {
        "id": "eQRSVJiGmNCR",
        "colab_type": "code",
        "colab": {
          "base_uri": "https://localhost:8080/",
          "height": 68
        },
        "outputId": "ee0d8684-1c15-452f-bc1f-1945eebd1376"
      },
      "source": [
        "import numpy as np\n",
        "import time\n",
        "\n",
        "\n",
        "row = np.random.randint(0, 100, 10)\n",
        "\n",
        "\n",
        "def gnome_sort(array):\n",
        "    i, size = 1, len(array)\n",
        "    while i < size:\n",
        "        if array[i - 1] <= array[i]:\n",
        "            i += 1\n",
        "        else:\n",
        "            array[i - 1], array[i] = array[i], array[i - 1]\n",
        "            if i > 1:\n",
        "                i -= 1\n",
        "    return array\n",
        "\n",
        "\n",
        "print(row)\n",
        "gnome_sort(row)\n",
        "print(row)\n",
        "print(time.process_time())"
      ],
      "execution_count": 8,
      "outputs": [
        {
          "output_type": "stream",
          "text": [
            "[23 89 37 49  8 60 39 60 97 49]\n",
            "[ 8 23 37 39 49 49 60 60 89 97]\n",
            "2.275197096\n"
          ],
          "name": "stdout"
        }
      ]
    },
    {
      "cell_type": "code",
      "metadata": {
        "id": "0CHIgbZWmeHo",
        "colab_type": "code",
        "colab": {
          "base_uri": "https://localhost:8080/",
          "height": 68
        },
        "outputId": "564d6c86-54d8-4762-f8c1-8d5d63bc6879"
      },
      "source": [
        "import numpy as np\n",
        "import time\n",
        "\n",
        "\n",
        "row = np.random.randint(0, 100, 10)\n",
        "\n",
        "\n",
        "def opt_gnome_sort(array):\n",
        "    i, j, size = 1, 2, len(array)\n",
        "    while i < size:\n",
        "        if array[i - 1] <= array[i]:\n",
        "            i, j = j, j + 1\n",
        "        else:\n",
        "            array[i - 1], array[i] = array[i], array[i - 1]\n",
        "            i -= 1\n",
        "            if i == 0:\n",
        "                i, j = j, j + 1\n",
        "    return array\n",
        "\n",
        "\n",
        "print(row)\n",
        "opt_gnome_sort(row)\n",
        "print(row)\n",
        "print(time.process_time())"
      ],
      "execution_count": 9,
      "outputs": [
        {
          "output_type": "stream",
          "text": [
            "[58 76 84 31 47 19 45 52 71 72]\n",
            "[19 31 45 47 52 58 71 72 76 84]\n",
            "2.309808428\n"
          ],
          "name": "stdout"
        }
      ]
    }
  ]
}