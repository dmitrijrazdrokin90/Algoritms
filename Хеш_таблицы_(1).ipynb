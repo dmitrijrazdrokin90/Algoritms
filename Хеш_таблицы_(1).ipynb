{
  "nbformat": 4,
  "nbformat_minor": 0,
  "metadata": {
    "colab": {
      "name": "Хеш-таблицы (1).ipynb",
      "provenance": [],
      "collapsed_sections": [],
      "authorship_tag": "ABX9TyOdCaKdytk4viYPfh9Y4x+J",
      "include_colab_link": true
    },
    "kernelspec": {
      "name": "python3",
      "display_name": "Python 3"
    }
  },
  "cells": [
    {
      "cell_type": "markdown",
      "metadata": {
        "id": "view-in-github",
        "colab_type": "text"
      },
      "source": [
        "<a href=\"https://colab.research.google.com/github/dmitrijrazdrokin90/Algoritms/blob/master/%D0%A5%D0%B5%D1%88_%D1%82%D0%B0%D0%B1%D0%BB%D0%B8%D1%86%D1%8B_(1).ipynb\" target=\"_parent\"><img src=\"https://colab.research.google.com/assets/colab-badge.svg\" alt=\"Open In Colab\"/></a>"
      ]
    },
    {
      "cell_type": "code",
      "metadata": {
        "id": "ZQ--Q4uPNjSz",
        "colab_type": "code",
        "colab": {}
      },
      "source": [
        "from dataclasses import dataclass\n",
        "from typing import List\n",
        "\n",
        "\n",
        "@dataclass\n",
        "class TInfo:\n",
        "    phone: str = \" \"\n",
        "    name: str = \" \"\n",
        "\n",
        "\n",
        "@dataclass\n",
        "class HashItem:\n",
        "    info: TInfo\n",
        "    empty: bool = True\n",
        "    visit: bool = False\n",
        "\n",
        "\n",
        "class MyHash:\n",
        "    hash_table: List[HashItem]\n",
        "    info: TInfo\n",
        "\n",
        "    def __init__(self, size_table):\n",
        "        self.size_table = size_table\n",
        "        self.info = TInfo()\n",
        "        self.hash_table = [HashItem(info=self.info) for _ in range(self.size_table)]\n",
        "        self.size = 0\n",
        "        self.step = 21\n",
        "\n",
        "    def __hash_function(self, s):\n",
        "        result = 0\n",
        "        for i in range(len(s)):\n",
        "            result += int(s[i]) * i\n",
        "            result //= self.size_table\n",
        "        return result\n",
        "\n",
        "    def add_hash(self, name: str, phone: str):\n",
        "        adr = -1\n",
        "        if self.size < self.size_table:\n",
        "            adr = self.__hash_function(phone)\n",
        "            while not self.hash_table[adr].empty:\n",
        "                adr = (adr + self.step) // self.size_table\n",
        "            self.hash_table[adr].empty = False\n",
        "            self.hash_table[adr].visit = True\n",
        "            contact = TInfo(phone=phone, name=name)\n",
        "            self.hash_table[adr].info = contact\n",
        "            self.size += 1\n",
        "        return adr\n",
        "\n",
        "    def __clear_visit(self):\n",
        "        for i in self.hash_table:\n",
        "            i.visit = False\n",
        "\n",
        "    def find_hash(self, phone: str):\n",
        "        result = -1\n",
        "        ok: bool\n",
        "        count = 1\n",
        "        self.__clear_visit()\n",
        "        i = self.__hash_function(phone)\n",
        "        ok = self.hash_table[i].info.phone == phone\n",
        "        while not ok and not self.hash_table[i].visit:\n",
        "            count += 1\n",
        "            self.hash_table[i].visit = True\n",
        "            i = (i + self.step) // self.size_table\n",
        "            ok = self.hash_table[i].info.phone == phone\n",
        "        if ok:\n",
        "            result = i + 1\n",
        "        return result\n",
        "\n",
        "    def del_hash(self, phone: str):\n",
        "        result = False\n",
        "        i = 0\n",
        "        if self.size != 0:\n",
        "            i = self.__hash_function(phone)\n",
        "            if self.hash_table[i].info.phone == phone:\n",
        "                self.hash_table[i].empty = True\n",
        "                self.hash_table[i].info.name = \" \"\n",
        "                self.hash_table[i].info.phone = \" \"\n",
        "                result = True\n",
        "                self.size -= 1\n",
        "            else:\n",
        "                i = self.find_hash(phone)\n",
        "                if i == -1:\n",
        "                    self.hash_table[i].empty = True\n",
        "                    self.hash_table[i].info.name = \" \"\n",
        "                    self.hash_table[i].info.phone = \" \"\n",
        "                    result = True\n",
        "                    self.size -= 1\n",
        "        return result\n",
        "\n",
        "    def __str__(self):\n",
        "        out = \"\"\n",
        "        head = \"{:<6}{:<20}{:<20}\".format(\"N\", \"NAME\", \"PHONE\")\n",
        "        out += head\n",
        "        out += \"\\n\"\n",
        "        for i in range(self.size_table):\n",
        "            name: str = self.hash_table[i].info.name\n",
        "            phone: str = self.hash_table[i].info.phone\n",
        "            string = \"{:<6}{:<20}{:<20}\".format(i + 1, name, phone)\n",
        "            out += string\n",
        "            out += \"\\n\"\n",
        "        return out"
      ],
      "execution_count": null,
      "outputs": []
    },
    {
      "cell_type": "code",
      "metadata": {
        "id": "1blnKNFvYDcE",
        "colab_type": "code",
        "colab": {
          "base_uri": "https://localhost:8080/",
          "height": 221
        },
        "outputId": "4bece21b-ea2a-43d5-bfee-82d89e7d583b"
      },
      "source": [
        "\n",
        "\n",
        "hash_table = MyHash(10)\n",
        "hash_table.add_hash('Kirill', '888888888')\n",
        "hash_table.add_hash('Dmitry', '9999999999')\n",
        "hash_table.add_hash('Roman', '55555555555')\n",
        "hash_table.add_hash('Nikita', '44444444444')\n",
        "hash_table.add_hash('Vova', '22222222222')\n",
        "\n",
        "print(hash_table)"
      ],
      "execution_count": null,
      "outputs": [
        {
          "output_type": "stream",
          "text": [
            "N     NAME                PHONE               \n",
            "1                                             \n",
            "2                                             \n",
            "3     Vova                22222222222         \n",
            "4                                             \n",
            "5     Nikita              44444444444         \n",
            "6     Roman               55555555555         \n",
            "7                                             \n",
            "8     Kirill              888888888           \n",
            "9     Dmitry              9999999999          \n",
            "10                                            \n",
            "\n"
          ],
          "name": "stdout"
        }
      ]
    },
    {
      "cell_type": "code",
      "metadata": {
        "id": "mP5A5NZgDZAk",
        "colab_type": "code",
        "colab": {}
      },
      "source": [
        ""
      ],
      "execution_count": null,
      "outputs": []
    }
  ]
}